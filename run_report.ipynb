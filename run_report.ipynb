{
 "cells": [
  {
   "cell_type": "code",
   "execution_count": 1,
   "metadata": {},
   "outputs": [
    {
     "data": {
      "text/plain": [
       "2"
      ]
     },
     "execution_count": 1,
     "metadata": {},
     "output_type": "execute_result"
    }
   ],
   "source": [
    "1+1"
   ]
  },
  {
   "cell_type": "code",
   "execution_count": 2,
   "metadata": {},
   "outputs": [
    {
     "data": {
      "text/html": [
       "<style>.container { width:95% !important; }</style>"
      ],
      "text/plain": [
       "<IPython.core.display.HTML object>"
      ]
     },
     "metadata": {},
     "output_type": "display_data"
    },
    {
     "name": "stdout",
     "output_type": "stream",
     "text": [
      "/home/abarbour\n"
     ]
    }
   ],
   "source": [
    "import numpy as np\n",
    "from databroker import Broker\n",
    " \n",
    "from IPython.core.display import display, HTML\n",
    "display(HTML(\"<style>.container { width:95% !important; }</style>\"))\n",
    "\n",
    "import matplotlib.pyplot as plt\n",
    "%matplotlib notebook\n",
    "\n",
    "from ipywidgets import interact\n",
    "#import time\n",
    "\n",
    "from databroker import list_configs\n",
    "#list_configs()\n",
    "\n",
    "!pwd"
   ]
  },
  {
   "cell_type": "code",
   "execution_count": 3,
   "metadata": {
    "collapsed": true,
    "jupyter": {
     "outputs_hidden": true
    }
   },
   "outputs": [],
   "source": [
    "db = Broker.named('csx')\n"
   ]
  },
  {
   "cell_type": "markdown",
   "metadata": {},
   "source": []
  },
  {
   "cell_type": "code",
   "execution_count": 4,
   "metadata": {},
   "outputs": [],
   "source": [
    "def print_scans(hhs,skip_reasons=['test m5',]):\n",
    "    '''Print a custom summary of a set of data based on search critera.\n",
    "    \n",
    "    note: \n",
    "    The ``since`` and ``until`` parameters accepts the following\n",
    "    representations of time:\n",
    "    \n",
    "    * timestamps like ``time.time()`` and ``datetime.datetime.now()``\n",
    "    * ``'2015'``\n",
    "    * ``'2015-01'``\n",
    "    * ``'2015-01-30'``\n",
    "    * ``'2015-03-30 03:00:00'``\n",
    "    '''\n",
    "\n",
    "    for hh in hhs:\n",
    "        try:\n",
    "            if hh['stop'].get('exit_status',0) == 'success':  \n",
    "                md = hh['start']\n",
    "                t  = hh.table()\n",
    "                tb = hh.table(stream_name='baseline')\n",
    "                scan_plan = md['plan_name']\n",
    "                if 'fccd' in md['detectors']:\n",
    "                    aq_time = np.round(hh.config_data('fccd')['primary'][0].get('fccd_cam_acquire_time','unk'),1)\n",
    "                    real_time = hh['stop']['time'] - md['time']\n",
    "                #    #print('B2')\n",
    "                else:\n",
    "                    aq_time = np.nan \n",
    "                    real_time = np.nan\n",
    "                \n",
    "                if md.get('purpose') in skip_reasons:\n",
    "                    pass\n",
    "                \n",
    "                if md.get('fccd','na') != 'na':\n",
    "                    dk_im = md['fccd']['image']+'-'+md['fccd']['gain']\n",
    "                else:\n",
    "                    dk_im = 'light'\n",
    "                meas_time = hh['stop']['time'] - md['time']\n",
    "                print(f\"{md['scan_id']:<8}\"\n",
    "                          f\"{scan_plan:<15}\\t\"\n",
    "                          #f\"{','.join(md.get('detectors',[])) :<12}\\t\"\n",
    "                  \n",
    "                  #f\"{aq_time}\\t\"\n",
    "                  #f\"{num_im  }\\t\"\n",
    "                  \n",
    "                  f\"{md.get('motors','NA')}\\t\"\n",
    "                  \n",
    "                  #f\"{tb.get('tardis_delta', [0,0,np.nan])[2]  :3.3f}\\t\"\n",
    "                  #f\"{tb.get('tardis_gamma', [0,0,np.nan])[2]  :3.3f}\\t\"\n",
    "                  #f\"{tb.get('tardis_theta', [0,0,np.nan])[2]  :3.3f}\\t\"\n",
    "                  #f\"{tb.get('tardis_mu', [0,0,np.nan])[2]  :3.3f}\\t\"\n",
    "                  #f\"{tb.get('sy_readback', [0,0,np.nan])[2]  :3.3f}\\t\"\n",
    "                  #f\"{tb.get('slt1_yg', [0,0,np.nan])[2]  :3.2f}\\t\"\n",
    "                  #f\"{tb.get('slt1_xg', [0,0,np.nan])[2]  :3.2f}\\t\"\n",
    "                  f\"{tb.get('pgm_energy_setpoint', [0,0,np.nan])[2]  :4.2f}\\t\"\n",
    "                  #f\"{tb.get('epu2_phase_readback', [0,0,np.nan])[2]  :4.2f}\\t\"\n",
    "                  f\"{tb.get('stemp_temp_A_T', [0,0,np.nan])[2]  :3.2f}\\t\"\n",
    "                  \n",
    "                  f\"{md['sample'].get('type','unk'  )}\\t\"\n",
    "                  f\"{md['sample'].get('composition','unk'  ):<20}\\t\"\n",
    "                  \n",
    "                  #f\"{','.join(md.get('motors',['-'])) :<13}\" #\n",
    "                  #f\"{md.get('purpose','na'):<25}\\t\"\n",
    "                          \n",
    "                  \n",
    "                  #f\"{md['sample'].get('composition','unk'  )}\\t\"\n",
    "                  #f\"{tb.get('inout_status', '?')[1]}\\t\"\n",
    "                  f\"{aq_time:2.2f}s\\t\"\n",
    "                  f\"{real_time/60:2.0f}m\\t\"\n",
    "                  f\"{meas_time/60:2.0f}m\\t\"\n",
    "                  f\"{md.get('reason',md.get('purpose','na')):<35}\\t\"\n",
    "                  f\"{dk_im}\"      \n",
    "                  #f\"{md.get('reason','na'):<35}\\t\"\n",
    "                  #f\"{tb.get('tardis_l', '?')[2]:3.2f}\" \n",
    "                  )\n",
    "            \n",
    "                  \n",
    "                  #scaninfo.append(db[sc_no].table(stream_name='baseline')['inout'][2])     #DARK IMAGES\n",
    " \n",
    "            \n",
    "        except KeyError as ex:\n",
    "            #if ex == 'primary':  #TODO ficgure out how to make a <class 'KeyError'> parable in a string\n",
    "            #    print('\\t\\t missing rixscam primary stream')\n",
    "            print('\\t\\t\\t KeyError on',ex, 'for scan ', hh['start']['scan_id'])\n",
    "            pass\n",
    "\n",
    " \n",
    "            \n",
    "            #print('\\n', end='')\n",
    "        except KeyError:\n",
    "            \n",
    "\n",
    "            print('')\n",
    "            pass"
   ]
  },
  {
   "cell_type": "code",
   "execution_count": 5,
   "metadata": {},
   "outputs": [],
   "source": [
    "#list(db[-2].table('baseline'))"
   ]
  },
  {
   "cell_type": "code",
   "execution_count": 6,
   "metadata": {},
   "outputs": [
    {
     "name": "stdout",
     "output_type": "stream",
     "text": [
      "25.215728000000002\n",
      "3.999399999999998\n",
      "2.9994999999999994\n",
      "-15.00008\n"
     ]
    }
   ],
   "source": [
    "#print_scans(db(project = 'Prop. 303453, SAF 303215' ))#, since = '2018-11-01 23:00:00', until = '2018-11-30 00:00:00'))\n",
    "#print_scans(db(project = 'Prop. 303453, SAF 303215' ))#, since = '2018-11-01 23:00:00', until = '2018-11-30 00:00:00'))\n",
    "#db[-1].start\n",
    "h=db[-1]\n",
    "tb=h.table('baseline')\n",
    "print(tb['epu2_gap_readback'].mean())\n",
    "print(tb['slt1_xg'].mean())\n",
    "print(tb['slt1_yg'].mean())\n",
    "print(tb['slt3_x'].mean())"
   ]
  },
  {
   "cell_type": "markdown",
   "metadata": {},
   "source": [
    "# Make notes about the data set below\n",
    "* can be whaterver your like"
   ]
  },
  {
   "cell_type": "code",
   "execution_count": null,
   "metadata": {},
   "outputs": [],
   "source": []
  },
  {
   "cell_type": "code",
   "execution_count": 8,
   "metadata": {},
   "outputs": [
    {
     "name": "stdout",
     "output_type": "stream",
     "text": [
      "122918  count          \tNA\t636.00\t80.00\tCuMn 18% thin film with 10 mum pinhole\tunk                 \t0.50s\t 2m\t 2m\tna                                 \tdark-x1\n",
      "122917  count          \tNA\t636.00\t80.00\tCuMn 18% thin film with 10 mum pinhole\tunk                 \t0.50s\t 2m\t 2m\tna                                 \tdark-x2\n",
      "122916  count          \tNA\t636.00\t80.00\tCuMn 18% thin film with 10 mum pinhole\tunk                 \t0.50s\t 2m\t 2m\tna                                 \tdark-auto\n",
      "122915  count          \tNA\t636.00\t80.00\tCuMn 18% thin film with 10 mum pinhole\tunk                 \t0.50s\t10m\t10m\ttimescan                           \tlight\n",
      "122914  count          \tNA\t636.00\t80.00\tCuMn 18% thin film with 10 mum pinhole\tunk                 \t0.20s\t 0m\t 0m\ton res check                       \tlight\n",
      "122913  count          \tNA\t648.00\t80.00\tCuMn 18% thin film with 10 mum pinhole\tunk                 \t0.20s\t 0m\t 0m\tna                                 \tdark-x1\n",
      "122912  count          \tNA\t648.00\t80.01\tCuMn 18% thin film with 10 mum pinhole\tunk                 \t0.20s\t 0m\t 0m\tna                                 \tdark-x2\n",
      "122911  count          \tNA\t648.00\t79.99\tCuMn 18% thin film with 10 mum pinhole\tunk                 \t0.20s\t 0m\t 0m\tna                                 \tdark-auto\n",
      "122910  count          \tNA\t648.00\t80.00\tCuMn 18% thin film with 10 mum pinhole\tunk                 \t0.20s\t 0m\t 0m\ton res check                       \tlight\n",
      "122909  count          \tNA\t638.00\t80.00\tCuMn 18% thin film with 10 mum pinhole\tunk                 \t0.20s\t 0m\t 0m\toff res check                      \tlight\n",
      "122908  scan           \t['pgm_energy']\t655.00\t80.00\tCuMn 18% thin film with 10 mum pinhole\tunk                 \t0.20s\t 5m\t 5m\tna                                 \tlight\n",
      "122907  scan           \t['pgm_energy']\t650.00\t80.00\tCuMn 18% thin film with 10 mum pinhole\tunk                 \t0.20s\t 5m\t 5m\tna                                 \tlight\n",
      "122905  scan           \t['pgm_energy']\t645.00\t100.01\tCuMn 18% thin film with 10 mum pinhole\tunk                 \tnans\tnanm\t 4m\tna                                 \tlight\n",
      "122904  scan           \t['pgm_energy']\t655.00\t100.01\tCuMn 18% thin film with 10 mum pinhole\tunk                 \tnans\tnanm\t 2m\tna                                 \tlight\n",
      "122903  rel_scan       \t['epu2_gap']\t642.00\t100.01\tCuMn 18% thin film with 10 mum pinhole\tunk                 \tnans\tnanm\t 3m\tna                                 \tlight\n",
      "122902  rel_scan       \t['nanop_bx']\t642.00\t100.00\tCuMn 18% thin film with 10 mum pinhole\tunk                 \tnans\tnanm\t 1m\tna                                 \tlight\n",
      "122901  rel_scan       \t['nanop_bx']\t642.00\t100.00\tCuMn 18% thin film with 10 mum pinhole\tunk                 \tnans\tnanm\t 1m\tna                                 \tlight\n",
      "122900  rel_scan       \t['nanop_bz']\t642.00\t100.00\tCuMn 18% thin film with 10 mum pinhole\tunk                 \tnans\tnanm\t 1m\tna                                 \tlight\n",
      "122899  scan           \t['pgm_energy']\t655.00\t100.00\tCuMn 18% thin film with 10 mum pinhole\tunk                 \tnans\tnanm\t 2m\tna                                 \tlight\n",
      "122897  rel_scan       \t['nanop_bx']\t655.00\t100.00\tCuMn 18% thin film with 10 mum pinhole\tunk                 \tnans\tnanm\t 1m\tna                                 \tlight\n",
      "122896  rel_scan       \t['nanop_bx']\t655.00\t100.00\tCuMn 18% thin film with 10 mum pinhole\tunk                 \tnans\tnanm\t 1m\tna                                 \tlight\n",
      "122895  rel_scan       \t['nanop_bz']\t655.00\t100.00\tCuMn 18% thin film with 10 mum pinhole\tunk                 \tnans\tnanm\t 1m\tna                                 \tlight\n",
      "122894  rel_scan       \t['nanop_bz']\t655.00\t100.00\tCuMn 18% thin film with 10 mum pinhole\tunk                 \tnans\tnanm\t 1m\tna                                 \tlight\n",
      "122893  rel_scan       \t['nanop_bz']\t655.00\t100.00\tCuMn 18% thin film with 10 mum pinhole\tunk                 \tnans\tnanm\t 1m\tna                                 \tlight\n",
      "122892  rel_scan       \t['nanop_bx']\t655.00\t100.00\tCuMn 18% thin film with 10 mum pinhole\tunk                 \tnans\tnanm\t 1m\tna                                 \tlight\n",
      "\t\t\t KeyError on 2 for scan  122891\n",
      "122890  rel_scan       \t['nanop_bx']\t655.00\t100.00\tCuMn 18% thin film with 10 mum pinhole\tunk                 \tnans\tnanm\t 1m\tna                                 \tlight\n",
      "122889  scan           \t['nanop_bx']\t655.00\t100.00\tCuMn 18% thin film with 10 mum pinhole\tunk                 \tnans\tnanm\t 1m\tna                                 \tlight\n",
      "122886  scan           \t['pgm_energy']\t655.00\t129.92\tCuMn 18% thin film with 10 mum pinhole\tunk                 \tnans\tnanm\t 2m\tna                                 \tlight\n",
      "122885  scan           \t['pgm_energy']\t635.00\t143.23\tCuMn 18% thin film with 10 mum pinhole\tunk                 \tnans\tnanm\t 0m\tna                                 \tlight\n",
      "122884  scan           \t['pgm_energy']\t650.00\t138.57\tunk\tunk                 \tnans\tnanm\t 5m\tna                                 \tlight\n",
      "122883  scan           \t['pgm_energy']\t620.00\t134.23\tunk\tunk                 \tnans\tnanm\t 2m\tna                                 \tlight\n"
     ]
    }
   ],
   "source": [
    "#print('Scan_ID\\tplan\\t\\tdets\\t\\tdelta\\tgamma\\ttheta\\tenergy\\tsample\\t\\t\\torient\\t\\t\\t\\tscan_mtr\\texp_time meas_time\\treason\\t\\t\\t\\t\\t')#\\t\\t\\tCAMtime\\tIMGtime')\n",
    "print('Scan_ID\\tplan\\t\\tdets\\t\\tsampY\\tXg_S1\\tYg_S1\\tenergy\\tsample\\t\\t\\torient\\t\\t\\t\\tscan_mtr exp_time meas_time\\treason\\t\\t\\t\\t\\t')#\\t\\t\\tCAMtime\\tIMGtime')\n",
    "print_scans(db(since = '2019-10-17 10:00:00', until = '2019-10-18 12:00:00'))"
   ]
  },
  {
   "cell_type": "code",
   "execution_count": null,
   "metadata": {},
   "outputs": [],
   "source": []
  },
  {
   "cell_type": "code",
   "execution_count": 28,
   "metadata": {},
   "outputs": [
    {
     "data": {
      "text/plain": [
       "1.8333333333333333"
      ]
     },
     "execution_count": 28,
     "metadata": {},
     "output_type": "execute_result"
    }
   ],
   "source": [
    "11/60*10"
   ]
  },
  {
   "cell_type": "code",
   "execution_count": null,
   "metadata": {},
   "outputs": [],
   "source": []
  }
 ],
 "metadata": {
  "kernelspec": {
   "display_name": "Python 3",
   "language": "python",
   "name": "python3"
  },
  "language_info": {
   "codemirror_mode": {
    "name": "ipython",
    "version": 3
   },
   "file_extension": ".py",
   "mimetype": "text/x-python",
   "name": "python",
   "nbconvert_exporter": "python",
   "pygments_lexer": "ipython3",
   "version": "3.8.3"
  }
 },
 "nbformat": 4,
 "nbformat_minor": 4
}
