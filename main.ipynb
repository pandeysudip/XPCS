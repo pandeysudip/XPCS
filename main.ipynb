{
 "cells": [
  {
   "cell_type": "code",
   "execution_count": null,
   "id": "e49bc2d1",
   "metadata": {},
   "outputs": [],
   "source": [
    "from xpcs_class import XPCS"
   ]
  },
  {
   "cell_type": "code",
   "execution_count": null,
   "id": "d9a47210",
   "metadata": {},
   "outputs": [],
   "source": [
    "#single temp plot\n",
    "temp='80K'\n",
    "light=\n",
    "dark=[]\n",
    "light_offr=\n",
    "dark_offr=[]\n",
    "light2=\n",
    "dark2=[]\n",
    "\n",
    "g2_80=XPCS(temp, light, dark,roi_edge=(710,730), num_levels=8, num_bufs=12)\n",
    "\n",
    "g2_80.total_intensity()\n",
    "g2_80.intensity_q(light_offr, dark_offr)\n",
    "g2_80.sg_g2()\n",
    "g2_80.sg_g2_both(light_offr, dark_offr)\n",
    "g2_80.intensity_corr(light2, dark2,frame=(500, 4000, 500))\n",
    "g2_80.intensity_corr_small(light2, dark2, xrange=(720,760),yrange=(425,525),frame=(500, 4000, 500))\n"
   ]
  },
  {
   "cell_type": "code",
   "execution_count": null,
   "id": "08088f88",
   "metadata": {},
   "outputs": [],
   "source": [
    "#single temp plot\n",
    "\n",
    "temp='65K'\n",
    "light=\n",
    "dark=[]\n",
    "light_offr=\n",
    "dark_offr=[]\n",
    "light2=\n",
    "dark2=[]\n",
    "\n",
    "g2_65=XPCS(temp, light, dark,roi_edge=(710,730), num_levels=8, num_bufs=12)\n",
    "\n",
    "g2_65.total_intensity()\n",
    "g2_65.intensity_q(light_offr, dark_offr)\n",
    "g2_65.sg_g2()\n",
    "g2_65.sg_g2_both(light_offr, dark_offr)\n",
    "g2_65.intensity_corr(light2, dark2,frame=(500, 4000, 500))\n",
    "g2_65.intensity_corr_small(light2, dark2, xrange=(720,760),yrange=(425,525),frame=(500, 4000, 500))"
   ]
  },
  {
   "cell_type": "code",
   "execution_count": null,
   "id": "8604b239",
   "metadata": {},
   "outputs": [],
   "source": [
    "#single temp plot\n",
    "temp='55K'\n",
    "light=\n",
    "dark=[]\n",
    "light_offr=\n",
    "dark_offr=[]\n",
    "light2=\n",
    "dark2=[]\n",
    "\n",
    "g2_55=XPCS(temp, light, dark,roi_edge=(710,730), num_levels=8, num_bufs=12)\n",
    "g2_55.total_intensity()\n",
    "g2_55.intensity_q(light_offr, dark_offr)\n",
    "g2_55.sg_g2()\n",
    "g2_55.sg_g2_both(light_offr, dark_offr)\n",
    "g2_55.intensity_corr(light2, dark2,frame=(500, 4000, 500))\n",
    "g2_55.intensity_corr_small(light2, dark2, xrange=(720,760),yrange=(425,525),frame=(500, 4000, 500))"
   ]
  },
  {
   "cell_type": "code",
   "execution_count": null,
   "id": "7544d25e",
   "metadata": {},
   "outputs": [],
   "source": [
    "#single temp plot\n",
    "temp='40K'\n",
    "light=\n",
    "dark=[]\n",
    "light_offr=\n",
    "dark_offr=[]\n",
    "light2=\n",
    "dark2=[]\n",
    "\n",
    "g2_40=XPCS(temp, light, dark,roi_edge=(710,730), num_levels=8, num_bufs=12)\n",
    "\n",
    "g2_40.total_intensity()\n",
    "g2_40.intensity_q(light_offr, dark_offr)\n",
    "g2_40.sg_g2()\n",
    "g2_40.sg_g2_both(light_offr, dark_offr)\n",
    "g2_40.intensity_corr(light2, dark2,frame=(500, 4000, 500))\n",
    "g2_40.intensity_corr_small(light2, dark2, xrange=(720,760),yrange=(425,525),frame=(500, 4000, 500))"
   ]
  },
  {
   "cell_type": "code",
   "execution_count": null,
   "id": "c567672a",
   "metadata": {},
   "outputs": [],
   "source": [
    "#single temp plot\n",
    "temp='300K'\n",
    "light=\n",
    "dark=[]\n",
    "light_offr=\n",
    "dark_offr=[]\n",
    "light2=\n",
    "dark2=[]\n",
    "\n",
    "g2_300=XPCS(temp, light, dark,roi_edge=(710,730), num_levels=8, num_bufs=12)\n",
    "\n",
    "g2_300.total_intensity()\n",
    "g2_300.intensity_q(light_offr, dark_offr)\n",
    "g2_300.sg_g2()\n",
    "g2_300.sg_g2_both(light_offr, dark_offr)\n",
    "g2_300.intensity_corr(light2, dark2,frame=(500, 4000, 500))\n",
    "g2_300.intensity_corr_small(light2, dark2, xrange=(720,760),yrange=(425,525),frame=(500, 4000, 500))"
   ]
  },
  {
   "cell_type": "code",
   "execution_count": null,
   "id": "cd35ff8e",
   "metadata": {},
   "outputs": [],
   "source": []
  },
  {
   "cell_type": "code",
   "execution_count": null,
   "id": "4a648afa",
   "metadata": {},
   "outputs": [],
   "source": []
  },
  {
   "cell_type": "code",
   "execution_count": null,
   "id": "b5f5c257",
   "metadata": {},
   "outputs": [],
   "source": [
    "#to plot all\n",
    "temp_all=['80K', '65K', '55K', '50K', '40K', '300K']\n",
    "light=[]\n",
    "dark=[[], []]\n",
    "light_offr=[]\n",
    "dark_offr=[[], []]\n",
    "light2=[]\n",
    "dark2=[[], []]\n",
    "\n",
    "g2=XPCS(temp, light, dark,roi_edge=(710,730), num_levels=8, num_bufs=12)\n",
    "\n",
    "for i in range(len(temp_all)):\n",
    "    g2=XPCS(temp_all[i], light[i], dark[i],roi_edge=(710,730), num_levels=8, num_bufs=12)\n",
    "    g2.total_intensity()\n",
    "    g2.intensity_q(light_offr[i], dark_offr[i])\n",
    "    g2.sg_g2()\n",
    "    g2.sg_g2_both(light_offr[i], dark_offr[i])\n",
    "    g2.intensity_corr(light2[i], dark2[i],frame=(500, 4000, 500))\n",
    "    g2.intensity_corr_small(light2[i], dark2[i], xrange=(720,760),yrange=(425,525),frame=(500, 4000, 500))"
   ]
  }
 ],
 "metadata": {
  "kernelspec": {
   "display_name": "Python 3",
   "language": "python",
   "name": "python3"
  },
  "language_info": {
   "codemirror_mode": {
    "name": "ipython",
    "version": 3
   },
   "file_extension": ".py",
   "mimetype": "text/x-python",
   "name": "python",
   "nbconvert_exporter": "python",
   "pygments_lexer": "ipython3",
   "version": "3.8.3"
  }
 },
 "nbformat": 4,
 "nbformat_minor": 5
}
