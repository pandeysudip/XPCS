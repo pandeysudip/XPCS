{
 "cells": [
  {
   "cell_type": "code",
   "execution_count": 1,
   "metadata": {},
   "outputs": [
    {
     "ename": "SyntaxError",
     "evalue": "invalid syntax (<ipython-input-1-bcb7a49e5ce9>, line 1)",
     "output_type": "error",
     "traceback": [
      "\u001b[0;36m  File \u001b[0;32m\"<ipython-input-1-bcb7a49e5ce9>\"\u001b[0;36m, line \u001b[0;32m1\u001b[0m\n\u001b[0;31m    Intensity vs q\u001b[0m\n\u001b[0m              ^\u001b[0m\n\u001b[0;31mSyntaxError\u001b[0m\u001b[0;31m:\u001b[0m invalid syntax\n"
     ]
    }
   ],
   "source": [
    "Intensity vs q"
   ]
  },
  {
   "cell_type": "code",
   "execution_count": 2,
   "metadata": {},
   "outputs": [
    {
     "ename": "ModuleNotFoundError",
     "evalue": "No module named 'skbeam'",
     "output_type": "error",
     "traceback": [
      "\u001b[0;31m---------------------------------------------------------------------------\u001b[0m",
      "\u001b[0;31mModuleNotFoundError\u001b[0m                       Traceback (most recent call last)",
      "\u001b[0;32m<ipython-input-2-18cb2874f075>\u001b[0m in \u001b[0;36m<module>\u001b[0;34m\u001b[0m\n\u001b[1;32m      4\u001b[0m \u001b[0;32mimport\u001b[0m \u001b[0mpandas\u001b[0m \u001b[0;32mas\u001b[0m \u001b[0mpd\u001b[0m\u001b[0;34m\u001b[0m\u001b[0;34m\u001b[0m\u001b[0m\n\u001b[1;32m      5\u001b[0m \u001b[0;32mimport\u001b[0m \u001b[0mmatplotlib\u001b[0m\u001b[0;34m.\u001b[0m\u001b[0mpyplot\u001b[0m \u001b[0;32mas\u001b[0m \u001b[0mplt\u001b[0m\u001b[0;34m\u001b[0m\u001b[0;34m\u001b[0m\u001b[0m\n\u001b[0;32m----> 6\u001b[0;31m \u001b[0;32mimport\u001b[0m \u001b[0mskbeam\u001b[0m\u001b[0;34m.\u001b[0m\u001b[0mcore\u001b[0m\u001b[0;34m.\u001b[0m\u001b[0mroi\u001b[0m \u001b[0;32mas\u001b[0m \u001b[0mroi\u001b[0m\u001b[0;34m\u001b[0m\u001b[0;34m\u001b[0m\u001b[0m\n\u001b[0m\u001b[1;32m      7\u001b[0m \u001b[0;32mimport\u001b[0m \u001b[0mskbeam\u001b[0m\u001b[0;34m.\u001b[0m\u001b[0mcore\u001b[0m\u001b[0;34m.\u001b[0m\u001b[0mcorrelation\u001b[0m \u001b[0;32mas\u001b[0m \u001b[0mcorr\u001b[0m\u001b[0;34m\u001b[0m\u001b[0;34m\u001b[0m\u001b[0m\n\u001b[1;32m      8\u001b[0m \u001b[0;32mimport\u001b[0m \u001b[0mskbeam\u001b[0m\u001b[0;34m.\u001b[0m\u001b[0mcore\u001b[0m\u001b[0;34m.\u001b[0m\u001b[0mutils\u001b[0m \u001b[0;32mas\u001b[0m \u001b[0mutils\u001b[0m\u001b[0;34m\u001b[0m\u001b[0;34m\u001b[0m\u001b[0m\n",
      "\u001b[0;31mModuleNotFoundError\u001b[0m: No module named 'skbeam'"
     ]
    }
   ],
   "source": [
    "%matplotlib inline\n",
    "import numpy as np\n",
    "import numpy.ma as ma\n",
    "import pandas as pd\n",
    "import matplotlib.pyplot as plt\n",
    "import skbeam.core.roi as roi\n",
    "import skbeam.core.correlation as corr\n",
    "import skbeam.core.utils as utils\n",
    "import xray_vision\n",
    "import xray_vision.mpl_plotting as mpl_plot\n",
    "import time\n",
    "\n",
    "from databroker import DataBroker as db, get_table\n",
    "from csxtools.utils import get_fastccd_images, get_images_to_3D, get_images_to_4D, fccd_mask, get_fastccd_flatfield\n",
    "from csxtools.image import stackmean, images_mean, images_sum\n",
    "from csxtools.ipynb import image_stack_to_movie, show_image_stack\n",
    "from matplotlib.colors import LogNorm\n",
    "from skbeam.core import recip\n",
    "from skbeam.core. utils import grid3d\n",
    "from scipy.signal import savgol_filter as sgf\n",
    "from matplotlib import colors\n",
    "from ipywidgets import interact\n"
   ]
  },
  {
   "cell_type": "code",
   "execution_count": null,
   "metadata": {},
   "outputs": [],
   "source": [
    "#for 4 picture frame"
   ]
  },
  {
   "cell_type": "markdown",
   "metadata": {},
   "source": [
    "#634 ev, 80 K  -1st cycle\n",
    "light = db[118555]\n",
    "dark0 = db[118556]\n",
    "dark1 = db[118557]\n",
    "dark2 = db[118558]\n",
    "\n",
    "#634 ev, 80 K  -2nd cycle\n",
    "light = db[118616]\n",
    "dark0 = db[118617]\n",
    "dark1 = db[118618]\n",
    "dark2 = db[118619]\n",
    "\n",
    "\n",
    "\n",
    "\n"
   ]
  },
  {
   "cell_type": "code",
   "execution_count": 3,
   "metadata": {},
   "outputs": [
    {
     "ename": "NameError",
     "evalue": "name 'db' is not defined",
     "output_type": "error",
     "traceback": [
      "\u001b[0;31m---------------------------------------------------------------------------\u001b[0m",
      "\u001b[0;31mNameError\u001b[0m                                 Traceback (most recent call last)",
      "\u001b[0;32m<ipython-input-3-c8d1046204d1>\u001b[0m in \u001b[0;36m<module>\u001b[0;34m\u001b[0m\n\u001b[1;32m      1\u001b[0m \u001b[0;31m#on resonance\u001b[0m\u001b[0;34m\u001b[0m\u001b[0;34m\u001b[0m\u001b[0;34m\u001b[0m\u001b[0m\n\u001b[0;32m----> 2\u001b[0;31m \u001b[0mlight_1\u001b[0m \u001b[0;34m=\u001b[0m \u001b[0mdb\u001b[0m\u001b[0;34m[\u001b[0m\u001b[0;36m123134\u001b[0m\u001b[0;34m]\u001b[0m\u001b[0;34m\u001b[0m\u001b[0;34m\u001b[0m\u001b[0m\n\u001b[0m\u001b[1;32m      3\u001b[0m \u001b[0mdark0_1\u001b[0m \u001b[0;34m=\u001b[0m \u001b[0mdb\u001b[0m\u001b[0;34m[\u001b[0m\u001b[0;36m123131\u001b[0m\u001b[0;34m]\u001b[0m\u001b[0;34m\u001b[0m\u001b[0;34m\u001b[0m\u001b[0m\n\u001b[1;32m      4\u001b[0m \u001b[0mdark1_1\u001b[0m \u001b[0;34m=\u001b[0m \u001b[0mdb\u001b[0m\u001b[0;34m[\u001b[0m\u001b[0;36m123132\u001b[0m\u001b[0;34m]\u001b[0m\u001b[0;34m\u001b[0m\u001b[0;34m\u001b[0m\u001b[0m\n\u001b[1;32m      5\u001b[0m \u001b[0mdark2_1\u001b[0m \u001b[0;34m=\u001b[0m \u001b[0mdb\u001b[0m\u001b[0;34m[\u001b[0m\u001b[0;36m123133\u001b[0m\u001b[0;34m]\u001b[0m\u001b[0;34m\u001b[0m\u001b[0;34m\u001b[0m\u001b[0m\n",
      "\u001b[0;31mNameError\u001b[0m: name 'db' is not defined"
     ]
    }
   ],
   "source": [
    "#on resonance\n",
    "light_1 = db[123134]\n",
    "dark0_1 = db[123131]\n",
    "dark1_1 = db[123132]\n",
    "dark2_1 = db[123133]\n",
    "\n",
    "\n",
    "#off resonance\n",
    "light_2 = db[123033]\n",
    "dark0_2 = db[123034]\n",
    "dark1_2 = db[123035]\n",
    "dark2_2 = db[123036]\n",
    "\n",
    "\n",
    "\n",
    "images1 = get_fastccd_images(light_1, (dark0_1, dark1_1, dark2_1), flat=None)\n",
    "stack1 = get_images_to_3D(images1)\n",
    "\n",
    "images2 = get_fastccd_images(light_2, (dark0_2, dark1_2, dark2_2), flat=None)\n",
    "stack2 = get_images_to_3D(images2)\n",
    "\n",
    "mean_stack_1 = stackmean(stack1)\n",
    "mean_stack_2= stackmean(stack2)\n",
    "\n"
   ]
  },
  {
   "cell_type": "code",
   "execution_count": 4,
   "metadata": {},
   "outputs": [
    {
     "ename": "NameError",
     "evalue": "name 'mean_stack_1' is not defined",
     "output_type": "error",
     "traceback": [
      "\u001b[0;31m---------------------------------------------------------------------------\u001b[0m",
      "\u001b[0;31mNameError\u001b[0m                                 Traceback (most recent call last)",
      "\u001b[0;32m<ipython-input-4-9d281ff09bef>\u001b[0m in \u001b[0;36m<module>\u001b[0;34m\u001b[0m\n\u001b[0;32m----> 1\u001b[0;31m \u001b[0mprint\u001b[0m\u001b[0;34m(\u001b[0m\u001b[0mmean_stack_1\u001b[0m\u001b[0;34m[\u001b[0m\u001b[0;36m450\u001b[0m\u001b[0;34m,\u001b[0m\u001b[0;36m1\u001b[0m\u001b[0;34m]\u001b[0m\u001b[0;34m)\u001b[0m\u001b[0;34m\u001b[0m\u001b[0;34m\u001b[0m\u001b[0m\n\u001b[0m\u001b[1;32m      2\u001b[0m \u001b[0mprint\u001b[0m\u001b[0;34m(\u001b[0m\u001b[0mnp\u001b[0m\u001b[0;34m.\u001b[0m\u001b[0msum\u001b[0m\u001b[0;34m(\u001b[0m\u001b[0mmean_stack_1\u001b[0m\u001b[0;34m)\u001b[0m\u001b[0;34m)\u001b[0m\u001b[0;34m\u001b[0m\u001b[0;34m\u001b[0m\u001b[0m\n",
      "\u001b[0;31mNameError\u001b[0m: name 'mean_stack_1' is not defined"
     ]
    }
   ],
   "source": [
    "print(mean_stack_1[450,1])\n",
    "print(np.sum(mean_stack_1))"
   ]
  },
  {
   "cell_type": "code",
   "execution_count": 5,
   "metadata": {},
   "outputs": [
    {
     "name": "stdout",
     "output_type": "stream",
     "text": [
      "999\n",
      "999\n"
     ]
    }
   ],
   "source": [
    "\n",
    "I=[]\n",
    "for i in range(1,1000):\n",
    "    j=mean_stack_1[450,i]\n",
    "    I.append(j)\n",
    "    \n",
    "    \n",
    "J=[]\n",
    "for j in range(1,1000):\n",
    "    y=mean_stack_2[450,j]\n",
    "    J.append(y)\n",
    "    \n",
    "    \n",
    "print(len(I))\n",
    "print(len(J))"
   ]
  },
  {
   "cell_type": "code",
   "execution_count": 6,
   "metadata": {},
   "outputs": [
    {
     "name": "stderr",
     "output_type": "stream",
     "text": [
      "/opt/conda_envs/analysis-2018-2.1/lib/python3.6/site-packages/ipykernel_launcher.py:11: RuntimeWarning: invalid value encountered in double_scalars\n",
      "  # This is added back by InteractiveShellApp.init_path()\n",
      "/opt/conda_envs/analysis-2018-2.1/lib/python3.6/site-packages/ipykernel_launcher.py:12: RuntimeWarning: invalid value encountered in double_scalars\n",
      "  if sys.path[0] == '':\n"
     ]
    },
    {
     "name": "stdout",
     "output_type": "stream",
     "text": [
      "[nan, nan, nan, nan, nan, 2691.8753735495375, 1624.1661742774081, 994.6217852923526, 585.2692034724116, 373.0959339367966, 256.1236219900095, 200.44718620480614, 162.8755852209018, 139.4792851716196, 121.37730419013629, 118.01472939823772, 112.02867756401994, 111.44239043528414, 108.97066567048225, 106.41154684641126, 112.74989918918595, 110.70879393222768, 115.37231715963578, 116.8090783191222, 127.53731043830152, 125.23434408715931, 128.01570449541063, 130.6974017112081, 130.40438355150667, 133.3704293337611, 139.5369061488425, 133.8148021830156, 137.51081288681357, 137.53723520387692, 141.03338761569978, 138.10423034459512, 139.39811575424412, 138.39694029568074, 135.0878550960729, 135.93642507561086, 134.44738175672518, 135.6274318007001, 126.94326319726899, 124.6395179878898, 122.97644990327886, 120.83267792358471, 118.14549742609445, 115.17662940617444, 112.26414015607229, 109.06546455654448, 103.32170246745986, 100.46640485430373, 97.65525189948846, 91.58713639153622, 75.46782910781697, 68.42688280627003, 66.1970944175879, 68.74853199470192, 68.26996526762876, 68.90855510653425, 68.2594271504561, 65.44194286551293, 65.3748320265002, 60.80302671695539, 60.78774017324642, 60.12255755443287, 60.27894157370538, 58.088837460284914, 57.5990491220987, 54.37197275562962, 52.56027364296148, 53.9402938347856, 55.24998055393162, 53.723457700765934, 52.69592308333538, 52.48966850526533, 52.69983437923118, 51.0548611697921, 52.40300992354519, 49.516912959718745, 49.07221051539049, 50.69402576723182, 48.845633322703755, 48.213552194232534, 46.3252986085852, 45.31142197977085, 44.51774534501067, 44.44609649447856, 44.225115341776515, 42.07604213825968, 40.77450257510066, 39.64433250294389, 39.391556726005604, 38.47484650600324, 38.05841561596321, 37.97852733139724, 35.19587797185308, 34.632396832166286, 33.64185798366781, 33.13449331224464]\n"
     ]
    }
   ],
   "source": [
    "\n",
    "I_sum = []\n",
    "J_sum = []\n",
    "for i in range(100):\n",
    "    roi_edge= (10*i,10*i+10)\n",
    "    label_array = roi.rings(roi_edge, (450,1050), shape=mean_stack_1.shape)\n",
    "    I = mean_stack_1*label_array\n",
    "    J = mean_stack_2*label_array\n",
    "    x=np.count_nonzero(label_array)\n",
    "    y=np.count_nonzero(label_array)\n",
    "    I_sum.append((np.sum(I)/x))\n",
    "    J_sum.append((np.sum(J)/y))\n",
    "print(I_sum)\n",
    "\n",
    "\n",
    "                       "
   ]
  },
  {
   "cell_type": "code",
   "execution_count": 7,
   "metadata": {},
   "outputs": [
    {
     "data": {
      "text/plain": [
       "[<matplotlib.lines.Line2D at 0x7f5ce805f828>]"
      ]
     },
     "execution_count": 7,
     "metadata": {},
     "output_type": "execute_result"
    },
    {
     "data": {
      "image/png": "[encoded data removed]",
      "text/plain": [
       "<Figure size 432x288 with 2 Axes>"
      ]
     },
     "metadata": {},
     "output_type": "display_data"
    }
   ],
   "source": [
    "%matplotlib inline\n",
    "y1=I_sum[10:]\n",
    "y2=J_sum[10:]\n",
    "x=range(10,100)\n",
    "fig, ax =plt.subplots(1,2)\n",
    "ax[0].plot(x,y1,'o', markersize=5, color='r')\n",
    "ax[1].plot(x, y2, 'o', color='blue')"
   ]
  },
  {
   "cell_type": "code",
   "execution_count": 8,
   "metadata": {},
   "outputs": [
    {
     "data": {
      "image/png": "[encoded data removed]",
      "text/plain": [
       "<Figure size 432x288 with 1 Axes>"
      ]
     },
     "metadata": {},
     "output_type": "display_data"
    }
   ],
   "source": [
    "%matplotlib inline\n",
    "x=range(10,100)\n",
    "y1=I_sum[10:]\n",
    "y2=J_sum[10:]\n",
    "\n",
    "fig, ax= plt.subplots()\n",
    "ax.plot(x, y1/np.max(y1), 'o', color='red', label='ON')\n",
    "ax.plot(x, y2/np.max(y2), 'o', color='blue',label='OFF')\n",
    "ax.legend()\n",
    "ax.grid()\n",
    "ax.set_xlabel('Q [pxl]');\n",
    "ax.set_ylabel('Norm. int. [arb. u.]');"
   ]
  },
  {
   "cell_type": "code",
   "execution_count": null,
   "metadata": {},
   "outputs": [],
   "source": []
  },
  {
   "cell_type": "code",
   "execution_count": null,
   "metadata": {},
   "outputs": [],
   "source": []
  },
  {
   "cell_type": "code",
   "execution_count": null,
   "metadata": {},
   "outputs": [],
   "source": []
  },
  {
   "cell_type": "code",
   "execution_count": null,
   "metadata": {},
   "outputs": [],
   "source": []
  },
  {
   "cell_type": "code",
   "execution_count": null,
   "metadata": {},
   "outputs": [],
   "source": []
  },
  {
   "cell_type": "code",
   "execution_count": null,
   "metadata": {},
   "outputs": [],
   "source": []
  },
  {
   "cell_type": "code",
   "execution_count": null,
   "metadata": {},
   "outputs": [],
   "source": []
  },
  {
   "cell_type": "code",
   "execution_count": null,
   "metadata": {},
   "outputs": [],
   "source": []
  },
  {
   "cell_type": "code",
   "execution_count": null,
   "metadata": {},
   "outputs": [],
   "source": []
  },
  {
   "cell_type": "code",
   "execution_count": null,
   "metadata": {},
   "outputs": [],
   "source": []
  }
 ],
 "metadata": {
  "kernelspec": {
   "display_name": "Python 3",
   "language": "python",
   "name": "python3"
  },
  "language_info": {
   "codemirror_mode": {
    "name": "ipython",
    "version": 3
   },
   "file_extension": ".py",
   "mimetype": "text/x-python",
   "name": "python",
   "nbconvert_exporter": "python",
   "pygments_lexer": "ipython3",
   "version": "3.8.3"
  }
 },
 "nbformat": 4,
 "nbformat_minor": 4
}
